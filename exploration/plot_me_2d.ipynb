{
 "cells": [
  {
   "cell_type": "markdown",
   "id": "486f72dd",
   "metadata": {},
   "source": [
    "**Make plots of monitoring elements**\n",
    "\n",
    "In particular:\n",
    "- Limited to making plots of a single 2D ME.\n",
    "- Make plots of single lumisections, a selected range of lumisections (gif), all lumisections in a selected run (gif)"
   ]
  },
  {
   "cell_type": "code",
   "execution_count": null,
   "id": "36568142",
   "metadata": {},
   "outputs": [],
   "source": [
    "### imports\n",
    "\n",
    "# external modules\n",
    "import os\n",
    "import sys\n",
    "import numpy as np\n",
    "import pandas as pd\n",
    "import matplotlib.pyplot as plt\n",
    "from sklearn.preprocessing import normalize\n",
    "import importlib\n",
    "\n",
    "# internal modules\n",
    "sys.path.append('../utils')\n",
    "import dataframe_utils as dfu\n",
    "import plot_utils as pu\n",
    "import hist_utils as hu\n",
    "importlib.reload(dfu)\n",
    "importlib.reload(pu)\n",
    "importlib.reload(hu)"
   ]
  },
  {
   "cell_type": "code",
   "execution_count": null,
   "id": "eb3b7d2e",
   "metadata": {},
   "outputs": [],
   "source": [
    "### read the data\n",
    "# OPTION 1: from previously stored file\n",
    "\n",
    "# todo"
   ]
  },
  {
   "cell_type": "code",
   "execution_count": null,
   "id": "a1d4b154",
   "metadata": {},
   "outputs": [],
   "source": [
    "### read the data\n",
    "# OPTION 2: directly from DIALS\n",
    "\n",
    "# imports and authentication\n",
    "from cmsdials.auth.bearer import Credentials\n",
    "from cmsdials import Dials\n",
    "from cmsdials.filters import RunFilters\n",
    "from cmsdials.filters import LumisectionHistogram2DFilters\n",
    "\n",
    "creds = Credentials.from_creds_file()\n",
    "dials = Dials(creds, workspace='tracker')"
   ]
  },
  {
   "cell_type": "code",
   "execution_count": null,
   "id": "f83fafd8",
   "metadata": {},
   "outputs": [],
   "source": [
    "### read the data\n",
    "# OPTION 2, continued\n",
    "\n",
    "# find out in which dataset the run of interest is located\n",
    "dataset = '/ZeroBias/Run.*-PromptReco-v1/DQMIO'\n",
    "run_number = 381364\n",
    "filters = RunFilters(\n",
    "    dataset__regex=dataset,\n",
    "    run_number=run_number\n",
    ")\n",
    "\n",
    "data = dials.run.list_all(\n",
    "    filters,\n",
    "    enable_progress=True\n",
    ")\n",
    "df = data.to_pandas()\n",
    "df.head()"
   ]
  },
  {
   "cell_type": "code",
   "execution_count": null,
   "id": "350c4c9d",
   "metadata": {},
   "outputs": [],
   "source": [
    "### read the data\n",
    "# OPTION 2, continued\n",
    "\n",
    "# make a filter\n",
    "dataset = '/ZeroBias/Run2024E-PromptReco-v1/DQMIO'\n",
    "#mename = 'PixelPhase1/Phase1_MechanicalView/PXBarrel/clusters_per_SignedModuleCoord_per_SignedLadderCoord_PXLayer_1'\n",
    "mename = 'PixelPhase1/Phase1_MechanicalView/PXForward/clusters_per_SignedDiskCoord_per_SignedBladePanelCoord_PXRing_2'\n",
    "run_number = 381364\n",
    "filters = LumisectionHistogram2DFilters(\n",
    "    dataset=dataset,\n",
    "    me=mename,\n",
    "    run_number=run_number\n",
    ")\n",
    "\n",
    "data = dials.h2d.list_all(\n",
    "    filters,\n",
    "    enable_progress=True\n",
    ")\n",
    "df = data.to_pandas()\n",
    "df.head()"
   ]
  },
  {
   "cell_type": "code",
   "execution_count": null,
   "id": "2d888562",
   "metadata": {},
   "outputs": [],
   "source": [
    "### print some dataframe properties\n",
    "\n",
    "print('Number of runs: {}'.format(len(dfu.get_runs(df))))\n",
    "print('Number of LS: {}'.format(len(dfu.get_ls(df))))\n",
    "print('Avaialable MEs: {}'.format(dfu.get_menames(df)))"
   ]
  },
  {
   "cell_type": "code",
   "execution_count": null,
   "id": "31a9ecf3",
   "metadata": {},
   "outputs": [],
   "source": [
    "### filter the data (optional)\n",
    "\n",
    "# location of DCS-on json file\n",
    "# note: make sure to modify or add the correct json files depending on your data\n",
    "dcsjson = '/eos/user/c/cmsdqm/www/CAF/certification/Collisions24/DCSOnly_JSONS/dailyDCSOnlyJSON/Collisions24_13p6TeV_378981_381594_DCSOnly_TkPx.json'\n",
    "\n",
    "# filter the data\n",
    "# note: modify to your taste\n",
    "dff = dfu.select_json(df, dcsjson)\n",
    "\n",
    "print('Filtered number of runs: {}'.format(len(dfu.get_runs(dff))))\n",
    "print('Filtered number of LS: {}'.format(len(dff)))\n",
    "print('All available run numbers in selected data:\\n{}'.format(dfu.get_runs(dff)))"
   ]
  },
  {
   "cell_type": "code",
   "execution_count": null,
   "id": "4b018051",
   "metadata": {},
   "outputs": [],
   "source": [
    "### settings for plot aesthetics\n",
    "\n",
    "xaxtitle = 'Some x title'\n",
    "yaxtitle = 'Some y title'\n",
    "caxtitle = 'Some c title'\n",
    "metext = 'Clusters'\n",
    "extracmstext = 'Preliminary'\n",
    "lumitext = '2024 (13.6 TeV)'\n",
    "xmin = df['x_min'].values[0]\n",
    "xmax = df['x_max'].values[0]\n",
    "ymin = df['y_min'].values[0]\n",
    "ymax = df['y_max'].values[0]\n",
    "xbins = int(df['x_bin'].values[0])\n",
    "ybins = int(df['y_bin'].values[0])"
   ]
  },
  {
   "cell_type": "code",
   "execution_count": null,
   "id": "7b8c1920",
   "metadata": {},
   "outputs": [],
   "source": [
    "### make plot of a single lumisection in a selected run\n",
    "\n",
    "# settings\n",
    "run = 381364\n",
    "ls = 100\n",
    "\n",
    "# get the histogram\n",
    "dfr = dfu.select_runs(dff,[run])\n",
    "dfr = dfu.select_ls(dfr,[ls])\n",
    "if len(dfr)!=1:\n",
    "    raise Exception('ERROR: expected one instance, found {}'.format(len(dfr)))\n",
    "hist = np.array(dfr['data'][0])\n",
    "print('Shape of hist array: {}'.format(hist.shape))\n",
    "\n",
    "# plot the histogram\n",
    "lstext = 'Run: {}, LS: {}'.format(run, ls)\n",
    "fig,ax = pu.plot_hist_2d(hist, figsize=(7,7), \n",
    "                         xaxtitle=xaxtitle, xaxtitlesize=12,\n",
    "                         yaxtitle=yaxtitle, yaxtitlesize=12,\n",
    "                         caxtitle=caxtitle, caxtitlesize=15, caxtitleoffset=20)\n",
    "ax.text(0.02, 1.02, lstext, transform=ax.transAxes, fontsize=13)\n",
    "ax.text(0.98, 1.02, metext, transform=ax.transAxes, fontsize=13, ha='right')\n",
    "plt.show()\n",
    "#fig.savefig('run{}.png'.format(run), dpi=300)"
   ]
  },
  {
   "cell_type": "code",
   "execution_count": null,
   "id": "a0fc0da6",
   "metadata": {},
   "outputs": [],
   "source": [
    "### make gif image of some selected lumisections (or all lumisections) in a selected run\n",
    "\n",
    "# settings\n",
    "run = 381364\n",
    "ls = None # use either an iterable (e.g. list, range, array, etc.) or None (for all lumisections)\n",
    "\n",
    "# get the histogram(s)\n",
    "dfr = dfu.select_runs(dff,[run])\n",
    "if ls is not None: dfr = dfu.select_ls(dfr,ls)\n",
    "print('Selected number of LS: {}'.format(len(dfr)))\n",
    "runs = np.array(dfr['run_number'].values)\n",
    "lumis = np.array(dfr['ls_number'].values)\n",
    "hists = np.transpose(np.dstack(dfr['data'].values), axes=[2,0,1])\n",
    "print('Shape of hists array: {}'.format(hists.shape))\n",
    "\n",
    "# set some plot aesthetics\n",
    "titles = ['Clusters PXRing 2, Run {}, LS {}'.format(runs[i], lumis[i]) for i in range(len(hists))]\n",
    "figname = 'temp_gif.gif'\n",
    "#caxrange = (0.01,2000)\n",
    "caxrange = None\n",
    "duration = 300\n",
    "\n",
    "# make the gif\n",
    "pu.plot_hists_2d_gif(hists,\n",
    "                     titles=titles,\n",
    "                     figname=figname,\n",
    "                     caxrange=caxrange,\n",
    "                     duration=duration,\n",
    "                     mode='imageio')"
   ]
  },
  {
   "cell_type": "code",
   "execution_count": null,
   "id": "b8674341",
   "metadata": {},
   "outputs": [],
   "source": [
    "import IPython\n",
    "from IPython.display import Image\n",
    "Image(filename=figname)"
   ]
  },
  {
   "cell_type": "code",
   "execution_count": null,
   "id": "938c1e80",
   "metadata": {},
   "outputs": [],
   "source": []
  }
 ],
 "metadata": {
  "@webio": {
   "lastCommId": null,
   "lastKernelId": null
  },
  "kernelspec": {
   "display_name": "Python 3",
   "language": "python",
   "name": "python3"
  },
  "language_info": {
   "codemirror_mode": {
    "name": "ipython",
    "version": 3
   },
   "file_extension": ".py",
   "mimetype": "text/x-python",
   "name": "python",
   "nbconvert_exporter": "python",
   "pygments_lexer": "ipython3",
   "version": "3.9.12"
  }
 },
 "nbformat": 4,
 "nbformat_minor": 5
}
